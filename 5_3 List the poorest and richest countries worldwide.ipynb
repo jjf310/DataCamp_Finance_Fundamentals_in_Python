{
 "cells": [
  {
   "cell_type": "markdown",
   "metadata": {},
   "source": [
    "List the poorest and richest countries worldwide\n",
    "\n",
    "The values of numerical variables are numbers. They can be described by measures of central tendency, or the most typical value in a dataset, and dispersion, which represents the spread of a distribution.\n",
    "\n",
    "In the next few exercises, you will use these statistics to explore the data in 'per_capita_income.csv', which contains the average income earned per person in a given country. The first step in analyzing aspects of the global income distribution is to inspect and familiarize yourself with the data."
   ]
  },
  {
   "cell_type": "code",
   "execution_count": 1,
   "metadata": {},
   "outputs": [
    {
     "name": "stdout",
     "output_type": "stream",
     "text": [
      "<class 'pandas.core.frame.DataFrame'>\n",
      "RangeIndex: 184 entries, 0 to 183\n",
      "Data columns (total 2 columns):\n",
      " #   Column             Non-Null Count  Dtype  \n",
      "---  ------             --------------  -----  \n",
      " 0   Country            184 non-null    object \n",
      " 1   Income per Capita  184 non-null    float64\n",
      "dtypes: float64(1), object(1)\n",
      "memory usage: 3.0+ KB\n",
      "               Country  Income per Capita\n",
      "133              Qatar       141542.66280\n",
      "97    Macao SAR, China       111496.62940\n",
      "96          Luxembourg       102051.68030\n",
      "144          Singapore        85382.30227\n",
      "23   Brunei Darussalam        78369.29102\n",
      "                      Country  Income per Capita\n",
      "121                     Niger         955.483324\n",
      "94                    Liberia         835.366935\n",
      "37           Congo, Dem. Rep.         784.365232\n",
      "26                    Burundi         727.150789\n",
      "31   Central African Republic         618.752859\n"
     ]
    }
   ],
   "source": [
    "import pandas as pd\n",
    "\n",
    "# Import the data\n",
    "income = pd.read_csv('per_capita_income.csv')\n",
    "\n",
    "# Inspect the result\n",
    "income.info()\n",
    "\n",
    "# Sort the data by income\n",
    "income = income.sort_values('Income per Capita', ascending=False)\n",
    "\n",
    "# Display the first and last five rows\n",
    "print(income.head())\n",
    "print(income.tail())"
   ]
  },
  {
   "cell_type": "markdown",
   "metadata": {},
   "source": [
    "Global incomes: Central tendency\n",
    "\n",
    "The most common measures of central tendency are the mean, which is equal to the sum of all values divided by the total number of values, median, which separates the upper half of data from the lower half, and mode, which is the most frequent value in the data set. The pandas package contains functions that can calculate each of these.\n",
    "\n",
    "In this data set, the values for 'Income per Capita' are floats, and there are no repeat values, so running income['Income per Capita'].mode() in your console returns an empty series. Here, you will use the floor division operator // to add a new column that measures income in thousands, rounded down, so that a value such as 11,543.43 becomes just 11. Then, you will run the above functions to better understand how incomes are distributed."
   ]
  },
  {
   "cell_type": "code",
   "execution_count": 12,
   "metadata": {},
   "outputs": [
    {
     "name": "stdout",
     "output_type": "stream",
     "text": [
      "Mean= 19469.41956573696\n",
      "Median= 11620.932519999998\n",
      "Mode= 0    1.0\n",
      "dtype: float64\n"
     ]
    }
   ],
   "source": [
    "# Calculate the mean\n",
    "mean = income['Income per Capita'].mean()\n",
    "print(\"Mean=\", mean)\n",
    "\n",
    "# Calculate the median\n",
    "print(\"Median=\",income['Income per Capita'].median())\n",
    "\n",
    "# Create the new column\n",
    "income['Income per Capita (,000)'] = income['Income per Capita'] // 1000\n",
    "\n",
    "# Calculate the mode of the new column\n",
    "print(\"Mode=\",income['Income per Capita (,000)'].mode())"
   ]
  },
  {
   "cell_type": "markdown",
   "metadata": {},
   "source": [
    "Rounded down to the nearest thousand, the most common value in Income per Capita is 1.0."
   ]
  },
  {
   "cell_type": "markdown",
   "metadata": {},
   "source": [
    "Global incomes: Dispersion\n",
    "    \n",
    "A quantile is a measure of dispersion created by dividing a frequency distribution of a DataFrame into even groups. You can return values at the given quantile q of a DataFrame df with the command df.quantile(q); likewise, supplying a list as q will return a value for each given quantile.\n",
    "\n",
    "Here, you will continue your analysis of global income distribution using two measures of dispersion: the standard deviation, or square root of variance, and the interquartile range (IQR)."
   ]
  },
  {
   "cell_type": "code",
   "execution_count": 13,
   "metadata": {},
   "outputs": [
    {
     "name": "stdout",
     "output_type": "stream",
     "text": [
      "[-2497.4416414691186, 41436.280772943035]\n",
      "0.25     3922.35894\n",
      "0.75    26558.75467\n",
      "Name: Income per Capita, dtype: float64\n",
      "22636.39573\n"
     ]
    }
   ],
   "source": [
    "# Calculate standard deviation\n",
    "std = income['Income per Capita'].std()\n",
    "\n",
    "# Calculate and print lower and upper bounds\n",
    "bounds = [mean-std, mean+std]\n",
    "print(bounds)\n",
    "\n",
    "# Calculate and print first and third quartiles\n",
    "quantiles = income['Income per Capita'].quantile([.25, .75])\n",
    "print(quantiles)\n",
    "\n",
    "# Calculate and print IQR\n",
    "iqr = quantiles[.75] - quantiles[.25]\n",
    "print(iqr)"
   ]
  },
  {
   "cell_type": "markdown",
   "metadata": {},
   "source": [
    "Deciles of the global income distribution\n",
    "\n",
    "A decile is a special kind of quantile obtained by dividing the distribution of a particular dataset by ten. Deciles (as well as any other kind of quantile) can be created by supplying the following numpy function to .quantile(), where start is the beginning of the interval (inclusive), stop is the end of the interval (exclusive), and step is the spacing between any two adjacent values:\n",
    "\n",
    "np.arange(start, stop, step)\n",
    "\n",
    "A standard bar graph is a great way to visualize the distribution of data. You can create one by adding kind='bar' as an argument to .plot()."
   ]
  },
  {
   "cell_type": "code",
   "execution_count": 14,
   "metadata": {},
   "outputs": [
    {
     "name": "stdout",
     "output_type": "stream",
     "text": [
      "[0.1 0.2 0.3 0.4 0.5 0.6 0.7 0.8 0.9]\n",
      "0.1     1805.906426\n",
      "0.2     3177.255688\n",
      "0.3     5506.323195\n",
      "0.4     8510.729683\n",
      "0.5    11620.932520\n",
      "0.6    15790.369076\n",
      "0.7    22563.075646\n",
      "0.8    32517.693902\n",
      "0.9    47377.886804\n",
      "Name: Income per Capita, dtype: float64\n"
     ]
    },
    {
     "data": {
      "image/png": "[encoded data removed]",
      "text/plain": [
       "<Figure size 432x288 with 1 Axes>"
      ]
     },
     "metadata": {
      "needs_background": "light"
     },
     "output_type": "display_data"
    }
   ],
   "source": [
    "import numpy as np\n",
    "import matplotlib.pyplot as plt\n",
    "\n",
    "# Generate range of deciles\n",
    "quantiles = np.arange(start=0.1, stop=0.91, step=0.1)\n",
    "\n",
    "# Print them\n",
    "print(quantiles)\n",
    "\n",
    "# Calculate deciles for 'Income per Capita'\n",
    "deciles = income['Income per Capita'].quantile(quantiles)\n",
    "\n",
    "# Print them\n",
    "print(deciles)\n",
    "\n",
    "# Plot deciles as a bar chart\n",
    "deciles.plot(kind='bar', title='Global Income per Capita - Deciles')\n",
    "\n",
    "\n",
    "# Make sure to use the tight layout!\n",
    "plt.tight_layout()\n",
    "\n",
    "# Show the plot\n",
    "plt.show()"
   ]
  },
  {
   "cell_type": "markdown",
   "metadata": {},
   "source": [
    "As expected, the height difference between any two adjacent bars is the same!"
   ]
  },
  {
   "cell_type": "markdown",
   "metadata": {},
   "source": [
    "Getting all the statistics\n",
    "\n",
    "You can retrieve all major central tendency, dispersion, and shape statistics of a distribution at once with the pandas .describe() method."
   ]
  },
  {
   "cell_type": "code",
   "execution_count": 15,
   "metadata": {},
   "outputs": [
    {
     "data": {
      "text/plain": [
       "count       184.000000\n",
       "mean      19469.419566\n",
       "std       21966.861207\n",
       "min         618.752859\n",
       "25%        3922.358940\n",
       "50%       11620.932520\n",
       "75%       26558.754670\n",
       "max      141542.662800\n",
       "Name: Income per Capita, dtype: float64"
      ]
     },
     "execution_count": 15,
     "metadata": {},
     "output_type": "execute_result"
    }
   ],
   "source": [
    "income['Income per Capita'].describe()"
   ]
  },
  {
   "cell_type": "markdown",
   "metadata": {},
   "source": [
    "Visualizing international income distribution\n",
    "\n",
    "seaborn is a Python visualization library for statistical data visualization based on matplotlib.\n",
    "\n",
    "By default, the distplot() function in the seaborn package creates a histogram, where data is grouped into ranges and and plotted as bars, and fits a kernel density estimation (KDE), or smoothed histogram. You can also use distplot() to create another kind of graph called a rugplot, which adds markers at the bottom of the chart to indicate the density of observations along the x axis.\n",
    "\n",
    "seaborn.distplot(a, bins=None, hist=True, kde=True, rug=False, ...)\n",
    "\n",
    "In previous exercises, you created a quantile plot which provided a fairly granular sense of the level of income per capita at different points of the distribution. Here, you will use distplot() to get the full picture!"
   ]
  },
  {
   "cell_type": "code",
   "execution_count": 18,
   "metadata": {},
   "outputs": [
    {
     "data": {
      "image/png": "[encoded data removed]",
      "text/plain": [
       "<Figure size 432x288 with 1 Axes>"
      ]
     },
     "metadata": {
      "needs_background": "light"
     },
     "output_type": "display_data"
    },
    {
     "data": {
      "image/png": "[encoded data removed]",
      "text/plain": [
       "<Figure size 432x288 with 1 Axes>"
      ]
     },
     "metadata": {
      "needs_background": "light"
     },
     "output_type": "display_data"
    }
   ],
   "source": [
    "# Import seaborn and matplotlib\n",
    "import seaborn as sns\n",
    "import matplotlib.pyplot as plt\n",
    "\n",
    "# Plot a basic histogram of income per capita\n",
    "sns.distplot(income['Income per Capita'])\n",
    "\n",
    "# Show the plot\n",
    "plt.show()\n",
    "\n",
    "# Plot a rugplot\n",
    "sns.distplot(income['Income per Capita'], bins=50, kde=False, rug=True)\n",
    "\n",
    "# Show the plot\n",
    "plt.show()"
   ]
  },
  {
   "cell_type": "markdown",
   "metadata": {},
   "source": [
    "Highlighting values in the distribution\n",
    "\n",
    "Sometimes it is necessary to manipulate your data in order to create a better visualization. Two methods that can take care of missing values are .dropna() and .fillna(). You can also remove outliers by filtering entries that are over or under a certain percentile by applying a condition using .quantile() to a particular column\n",
    "\n",
    "In this exercise, you will take a final look at global income distribution, and then remove outliers above the 95th percentile, plot the distribution, and highlight both the mean and median values. "
   ]
  },
  {
   "cell_type": "code",
   "execution_count": 19,
   "metadata": {},
   "outputs": [
    {
     "data": {
      "image/png": "[encoded data removed]",
      "text/plain": [
       "<Figure size 432x288 with 1 Axes>"
      ]
     },
     "metadata": {
      "needs_background": "light"
     },
     "output_type": "display_data"
    }
   ],
   "source": [
    "# Create inc_per_capita\n",
    "inc_per_capita = income['Income per Capita']\n",
    "\n",
    "# Filter out incomes above the 95th percentile\n",
    "inc_per_capita = inc_per_capita[inc_per_capita < inc_per_capita.quantile(0.95)]\n",
    "\n",
    "# Plot histogram and assign to ax\n",
    "ax = sns.distplot(inc_per_capita)\n",
    "\n",
    "# Highlight mean\n",
    "ax.axvline(inc_per_capita.mean(), color='b')\n",
    "\n",
    "# Highlight median\n",
    "ax.axvline(inc_per_capita.median(), color='g')\n",
    "\n",
    "# Show the plot\n",
    "plt.show()"
   ]
  },
  {
   "cell_type": "code",
   "execution_count": null,
   "metadata": {},
   "outputs": [],
   "source": []
  }
 ],
 "metadata": {
  "kernelspec": {
   "display_name": "Python 3",
   "language": "python",
   "name": "python3"
  },
  "language_info": {
   "codemirror_mode": {
    "name": "ipython",
    "version": 3
   },
   "file_extension": ".py",
   "mimetype": "text/x-python",
   "name": "python",
   "nbconvert_exporter": "python",
   "pygments_lexer": "ipython3",
   "version": "3.8.3"
  }
 },
 "nbformat": 4,
 "nbformat_minor": 4
}
