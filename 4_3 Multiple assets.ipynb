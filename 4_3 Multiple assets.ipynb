{
 "cells": [
  {
   "cell_type": "code",
   "execution_count": 24,
   "metadata": {},
   "outputs": [],
   "source": [
    "#imports\n",
    "import pandas as pd"
   ]
  },
  {
   "cell_type": "code",
   "execution_count": 25,
   "metadata": {},
   "outputs": [],
   "source": [
    "data= pd.read_csv('assets.csv', parse_dates=[0], index_col='Date')"
   ]
  },
  {
   "cell_type": "code",
   "execution_count": 26,
   "metadata": {},
   "outputs": [
    {
     "name": "stdout",
     "output_type": "stream",
     "text": [
      "<class 'pandas.core.frame.DataFrame'>\n",
      "DatetimeIndex: 2516 entries, 2007-05-24 to NaT\n",
      "Data columns (total 5 columns):\n",
      " #   Column  Non-Null Count  Dtype  \n",
      "---  ------  --------------  -----  \n",
      " 0   SP500   2515 non-null   float64\n",
      " 1   Nasdaq  2515 non-null   float64\n",
      " 2   Bonds   2515 non-null   float64\n",
      " 3   Gold    2515 non-null   float64\n",
      " 4   Oil     2515 non-null   float64\n",
      "dtypes: float64(5)\n",
      "memory usage: 117.9 KB\n"
     ]
    }
   ],
   "source": [
    "data.info()"
   ]
  },
  {
   "cell_type": "code",
   "execution_count": 27,
   "metadata": {},
   "outputs": [
    {
     "data": {
      "text/html": [
       "<div>\n",
       "<style scoped>\n",
       "    .dataframe tbody tr th:only-of-type {\n",
       "        vertical-align: middle;\n",
       "    }\n",
       "\n",
       "    .dataframe tbody tr th {\n",
       "        vertical-align: top;\n",
       "    }\n",
       "\n",
       "    .dataframe thead th {\n",
       "        text-align: right;\n",
       "    }\n",
       "</style>\n",
       "<table border=\"1\" class=\"dataframe\">\n",
       "  <thead>\n",
       "    <tr style=\"text-align: right;\">\n",
       "      <th></th>\n",
       "      <th>SP500</th>\n",
       "      <th>Nasdaq</th>\n",
       "      <th>Bonds</th>\n",
       "      <th>Gold</th>\n",
       "      <th>Oil</th>\n",
       "    </tr>\n",
       "    <tr>\n",
       "      <th>Date</th>\n",
       "      <th></th>\n",
       "      <th></th>\n",
       "      <th></th>\n",
       "      <th></th>\n",
       "      <th></th>\n",
       "    </tr>\n",
       "  </thead>\n",
       "  <tbody>\n",
       "    <tr>\n",
       "      <th>2007-05-24</th>\n",
       "      <td>1507.510010</td>\n",
       "      <td>2537.919922</td>\n",
       "      <td>86.570000</td>\n",
       "      <td>64.75</td>\n",
       "      <td>391.440002</td>\n",
       "    </tr>\n",
       "    <tr>\n",
       "      <th>2007-05-25</th>\n",
       "      <td>1515.729980</td>\n",
       "      <td>2557.189941</td>\n",
       "      <td>86.370003</td>\n",
       "      <td>64.94</td>\n",
       "      <td>396.000000</td>\n",
       "    </tr>\n",
       "    <tr>\n",
       "      <th>2007-05-29</th>\n",
       "      <td>1518.109985</td>\n",
       "      <td>2572.060059</td>\n",
       "      <td>86.360001</td>\n",
       "      <td>65.07</td>\n",
       "      <td>387.200012</td>\n",
       "    </tr>\n",
       "    <tr>\n",
       "      <th>2007-05-30</th>\n",
       "      <td>1530.229980</td>\n",
       "      <td>2592.590088</td>\n",
       "      <td>86.540001</td>\n",
       "      <td>64.72</td>\n",
       "      <td>385.679993</td>\n",
       "    </tr>\n",
       "    <tr>\n",
       "      <th>2007-05-31</th>\n",
       "      <td>1530.619995</td>\n",
       "      <td>2604.520020</td>\n",
       "      <td>86.379997</td>\n",
       "      <td>65.54</td>\n",
       "      <td>391.679993</td>\n",
       "    </tr>\n",
       "    <tr>\n",
       "      <th>...</th>\n",
       "      <td>...</td>\n",
       "      <td>...</td>\n",
       "      <td>...</td>\n",
       "      <td>...</td>\n",
       "      <td>...</td>\n",
       "    </tr>\n",
       "    <tr>\n",
       "      <th>2017-05-15</th>\n",
       "      <td>2402.320068</td>\n",
       "      <td>6149.669922</td>\n",
       "      <td>121.059998</td>\n",
       "      <td>117.14</td>\n",
       "      <td>81.360001</td>\n",
       "    </tr>\n",
       "    <tr>\n",
       "      <th>2017-05-16</th>\n",
       "      <td>2400.669922</td>\n",
       "      <td>6169.870117</td>\n",
       "      <td>121.510002</td>\n",
       "      <td>117.65</td>\n",
       "      <td>80.879997</td>\n",
       "    </tr>\n",
       "    <tr>\n",
       "      <th>2017-05-17</th>\n",
       "      <td>2357.030029</td>\n",
       "      <td>6011.240234</td>\n",
       "      <td>123.279999</td>\n",
       "      <td>119.79</td>\n",
       "      <td>81.519997</td>\n",
       "    </tr>\n",
       "    <tr>\n",
       "      <th>2017-05-18</th>\n",
       "      <td>2365.719971</td>\n",
       "      <td>6055.129883</td>\n",
       "      <td>123.419998</td>\n",
       "      <td>118.81</td>\n",
       "      <td>82.080002</td>\n",
       "    </tr>\n",
       "    <tr>\n",
       "      <th>NaT</th>\n",
       "      <td>NaN</td>\n",
       "      <td>NaN</td>\n",
       "      <td>NaN</td>\n",
       "      <td>NaN</td>\n",
       "      <td>NaN</td>\n",
       "    </tr>\n",
       "  </tbody>\n",
       "</table>\n",
       "<p>2516 rows × 5 columns</p>\n",
       "</div>"
      ],
      "text/plain": [
       "                  SP500       Nasdaq       Bonds    Gold         Oil\n",
       "Date                                                                \n",
       "2007-05-24  1507.510010  2537.919922   86.570000   64.75  391.440002\n",
       "2007-05-25  1515.729980  2557.189941   86.370003   64.94  396.000000\n",
       "2007-05-29  1518.109985  2572.060059   86.360001   65.07  387.200012\n",
       "2007-05-30  1530.229980  2592.590088   86.540001   64.72  385.679993\n",
       "2007-05-31  1530.619995  2604.520020   86.379997   65.54  391.679993\n",
       "...                 ...          ...         ...     ...         ...\n",
       "2017-05-15  2402.320068  6149.669922  121.059998  117.14   81.360001\n",
       "2017-05-16  2400.669922  6169.870117  121.510002  117.65   80.879997\n",
       "2017-05-17  2357.030029  6011.240234  123.279999  119.79   81.519997\n",
       "2017-05-18  2365.719971  6055.129883  123.419998  118.81   82.080002\n",
       "NaT                 NaN          NaN         NaN     NaN         NaN\n",
       "\n",
       "[2516 rows x 5 columns]"
      ]
     },
     "execution_count": 27,
     "metadata": {},
     "output_type": "execute_result"
    }
   ],
   "source": [
    "data"
   ]
  },
  {
   "cell_type": "code",
   "execution_count": 20,
   "metadata": {},
   "outputs": [],
   "source": [
    "#import seaborn\n",
    "import seaborn as sns\n"
   ]
  },
  {
   "cell_type": "code",
   "execution_count": 28,
   "metadata": {},
   "outputs": [],
   "source": [
    "daily_returns = data.pct_change()"
   ]
  },
  {
   "cell_type": "code",
   "execution_count": 32,
   "metadata": {},
   "outputs": [
    {
     "data": {
      "text/plain": [
       "<seaborn.axisgrid.JointGrid at 0x1b8553a1640>"
      ]
     },
     "execution_count": 32,
     "metadata": {},
     "output_type": "execute_result"
    },
    {
     "data": {
      "image/png": "[encoded data removed]",
      "text/plain": [
       "<Figure size 432x432 with 3 Axes>"
      ]
     },
     "metadata": {
      "needs_background": "light"
     },
     "output_type": "display_data"
    }
   ],
   "source": [
    "sns.jointplot(x='SP500', y='Nasdaq', data=daily_returns)"
   ]
  },
  {
   "cell_type": "code",
   "execution_count": 33,
   "metadata": {},
   "outputs": [
    {
     "data": {
      "text/plain": [
       "<seaborn.axisgrid.JointGrid at 0x1b855578760>"
      ]
     },
     "execution_count": 33,
     "metadata": {},
     "output_type": "execute_result"
    },
    {
     "data": {
      "image/png": "[encoded data removed]",
      "text/plain": [
       "<Figure size 432x432 with 3 Axes>"
      ]
     },
     "metadata": {
      "needs_background": "light"
     },
     "output_type": "display_data"
    }
   ],
   "source": [
    "sns.jointplot(x='SP500', y='Bonds', data=daily_returns)"
   ]
  },
  {
   "cell_type": "code",
   "execution_count": 35,
   "metadata": {},
   "outputs": [],
   "source": [
    "#Calculate all correlations\n",
    "\n",
    "correlations = daily_returns.corr()\n"
   ]
  },
  {
   "cell_type": "code",
   "execution_count": 36,
   "metadata": {},
   "outputs": [
    {
     "data": {
      "text/html": [
       "<div>\n",
       "<style scoped>\n",
       "    .dataframe tbody tr th:only-of-type {\n",
       "        vertical-align: middle;\n",
       "    }\n",
       "\n",
       "    .dataframe tbody tr th {\n",
       "        vertical-align: top;\n",
       "    }\n",
       "\n",
       "    .dataframe thead th {\n",
       "        text-align: right;\n",
       "    }\n",
       "</style>\n",
       "<table border=\"1\" class=\"dataframe\">\n",
       "  <thead>\n",
       "    <tr style=\"text-align: right;\">\n",
       "      <th></th>\n",
       "      <th>SP500</th>\n",
       "      <th>Nasdaq</th>\n",
       "      <th>Bonds</th>\n",
       "      <th>Gold</th>\n",
       "      <th>Oil</th>\n",
       "    </tr>\n",
       "  </thead>\n",
       "  <tbody>\n",
       "    <tr>\n",
       "      <th>SP500</th>\n",
       "      <td>1.000000</td>\n",
       "      <td>0.960027</td>\n",
       "      <td>-0.452059</td>\n",
       "      <td>0.022181</td>\n",
       "      <td>0.434475</td>\n",
       "    </tr>\n",
       "    <tr>\n",
       "      <th>Nasdaq</th>\n",
       "      <td>0.960027</td>\n",
       "      <td>1.000000</td>\n",
       "      <td>-0.438535</td>\n",
       "      <td>-0.000709</td>\n",
       "      <td>0.389520</td>\n",
       "    </tr>\n",
       "    <tr>\n",
       "      <th>Bonds</th>\n",
       "      <td>-0.452059</td>\n",
       "      <td>-0.438535</td>\n",
       "      <td>1.000000</td>\n",
       "      <td>0.122691</td>\n",
       "      <td>-0.313994</td>\n",
       "    </tr>\n",
       "    <tr>\n",
       "      <th>Gold</th>\n",
       "      <td>0.022181</td>\n",
       "      <td>-0.000709</td>\n",
       "      <td>0.122691</td>\n",
       "      <td>1.000000</td>\n",
       "      <td>0.244346</td>\n",
       "    </tr>\n",
       "    <tr>\n",
       "      <th>Oil</th>\n",
       "      <td>0.434475</td>\n",
       "      <td>0.389520</td>\n",
       "      <td>-0.313994</td>\n",
       "      <td>0.244346</td>\n",
       "      <td>1.000000</td>\n",
       "    </tr>\n",
       "  </tbody>\n",
       "</table>\n",
       "</div>"
      ],
      "text/plain": [
       "           SP500    Nasdaq     Bonds      Gold       Oil\n",
       "SP500   1.000000  0.960027 -0.452059  0.022181  0.434475\n",
       "Nasdaq  0.960027  1.000000 -0.438535 -0.000709  0.389520\n",
       "Bonds  -0.452059 -0.438535  1.000000  0.122691 -0.313994\n",
       "Gold    0.022181 -0.000709  0.122691  1.000000  0.244346\n",
       "Oil     0.434475  0.389520 -0.313994  0.244346  1.000000"
      ]
     },
     "execution_count": 36,
     "metadata": {},
     "output_type": "execute_result"
    }
   ],
   "source": [
    "#view correlations\n",
    "correlations"
   ]
  },
  {
   "cell_type": "code",
   "execution_count": 37,
   "metadata": {},
   "outputs": [
    {
     "data": {
      "text/plain": [
       "<matplotlib.axes._subplots.AxesSubplot at 0x1b85575b040>"
      ]
     },
     "execution_count": 37,
     "metadata": {},
     "output_type": "execute_result"
    },
    {
     "data": {
      "image/png": "[encoded data removed]",
      "text/plain": [
       "<Figure size 432x288 with 2 Axes>"
      ]
     },
     "metadata": {
      "needs_background": "light"
     },
     "output_type": "display_data"
    }
   ],
   "source": [
    "#visualize correlations\n",
    "\n",
    "sns.heatmap(correlations, annot=True)"
   ]
  },
  {
   "cell_type": "code",
   "execution_count": null,
   "metadata": {},
   "outputs": [],
   "source": []
  }
 ],
 "metadata": {
  "kernelspec": {
   "display_name": "Python 3",
   "language": "python",
   "name": "python3"
  },
  "language_info": {
   "codemirror_mode": {
    "name": "ipython",
    "version": 3
   },
   "file_extension": ".py",
   "mimetype": "text/x-python",
   "name": "python",
   "nbconvert_exporter": "python",
   "pygments_lexer": "ipython3",
   "version": "3.8.3"
  }
 },
 "nbformat": 4,
 "nbformat_minor": 4
}
