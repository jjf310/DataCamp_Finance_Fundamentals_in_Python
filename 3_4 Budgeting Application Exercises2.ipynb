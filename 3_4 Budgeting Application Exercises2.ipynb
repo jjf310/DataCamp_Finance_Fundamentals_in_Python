{
 "cells": [
  {
   "cell_type": "markdown",
   "metadata": {},
   "source": [
    "Exercise1\n",
    "\n",
    "Calculate Your Net Worth\n",
    "\n",
    "Now that you have forecasted your savings and salary over time while taking career progression and inflation into account, you have constructed a time-series which you can use to calculate your cash flows, just like in Chapter 1.\n",
    "\n",
    "For this example, all you need to do is subtract your forecasted monthly expenses from your forecasted monthly salary. The remaining cash flow will go straight into your savings account for each month.\n",
    "\n",
    "You want to project your cumulative savings over time to see how effective your budgeting process will be given your projections.\n",
    "\n",
    "salary_forecast and expenses_forecast from the previous exercises are available."
   ]
  },
  {
   "cell_type": "code",
   "execution_count": 1,
   "metadata": {},
   "outputs": [],
   "source": [
    "import numpy as np"
   ]
  },
  {
   "cell_type": "code",
   "execution_count": 2,
   "metadata": {},
   "outputs": [],
   "source": [
    "#Create the salary_forecast array\n",
    "\n",
    "salary_forecast = np.array([ 4978.53085018,  4998.81400112,  5019.17978814,  5039.62854789,\n",
    "        5060.16061841,  5080.77633914,  5101.47605086,  5122.26009577,\n",
    "        5143.12881745,  5164.08256089,  5185.12167247,  5206.2465    ,\n",
    "        5227.45739269,  5248.75470118,  5270.13877754,  5291.60997528,\n",
    "        5313.16864933,  5334.81515609,  5356.5498534 ,  5378.37310056,\n",
    "        5400.28525833,  5422.28668894,  5444.3777561 ,  5466.558825  ,\n",
    "        5488.83026232,  5511.19243624,  5533.64571642,  5556.19047404,\n",
    "        5578.8270818 ,  5601.5559139 ,  5624.37734607,  5647.29175559,\n",
    "        5670.29952124,  5693.40102338,  5716.5966439 ,  5739.88676625,\n",
    "        5763.27177544,  5786.75205805,  5810.32800224,  5833.99999775,\n",
    "        5857.76843589,  5881.63370959,  5905.59621338,  5929.65634337,\n",
    "        5953.8144973 ,  5978.07107455,  6002.4264761 ,  6026.88110456,\n",
    "        6051.43536421,  6076.08966095,  6100.84440235,  6125.69999763,\n",
    "        6150.65685769,  6175.71539507,  6200.87602405,  6226.13916054,\n",
    "        6251.50522217,  6276.97462828,  6302.5477999 ,  6328.22515979,\n",
    "        6354.00713242,  6379.894144  ,  6405.88662247,  6431.98499752,\n",
    "        6458.18970057,  6484.50116483,  6510.91982525,  6537.44611856,\n",
    "        6564.08048328,  6590.82335969,  6617.6751899 ,  6644.63641778,\n",
    "        6671.70748904,  6698.8888512 ,  6726.18095359,  6753.58424739,\n",
    "        6781.0991856 ,  6808.72622307,  6836.46581651,  6864.31842449,\n",
    "        6892.28450744,  6920.36452768,  6948.55894939,  6976.86823867,\n",
    "        7005.2928635 ,  7033.83329376,  7062.49000127,  7091.26345976,\n",
    "        7120.15414488,  7149.16253422,  7178.28910734,  7207.53434572,\n",
    "        7236.89873281,  7266.38275406,  7295.98689686,  7325.7116506 ,\n",
    "        7355.55750667,  7385.52495845,  7415.61450134,  7445.82663275,\n",
    "        7476.16185212,  7506.62066093,  7537.2035627 ,  7567.911063  ,\n",
    "        7598.74366946,  7629.70189176,  7660.7862417 ,  7691.99723313,\n",
    "        7723.335382  ,  7754.80120637,  7786.39522641,  7818.11796439,\n",
    "        7849.96994473,  7881.95169398,  7914.06374084,  7946.30661615,\n",
    "        7978.68085293,  8011.18698635,  8043.82555379,  8076.59709479,\n",
    "        8109.5021511 ,  8142.54126669,  8175.71498773,  8209.02386261,\n",
    "        8242.46844196,  8276.04927868,  8309.76692788,  8343.62194696,\n",
    "        8377.61489557,  8411.74633567,  8446.01683148,  8480.42694953,\n",
    "        8514.97725866,  8549.66833003,  8584.50073711,  8619.47505574,\n",
    "        8654.59186406,  8689.85174261,  8725.25527427,  8760.80304431,\n",
    "        8796.49564035,  8832.33365245,  8868.31767305,  8904.44829701,\n",
    "        8940.72612159,  8977.15174653,  9013.72577397,  9050.44880852,\n",
    "        9087.32145727,  9124.34432974,  9161.51803799,  9198.84319652,\n",
    "        9236.32042237,  9273.95033508,  9311.73355671,  9349.67071186,\n",
    "        9387.76242767,  9426.00933385,  9464.41206267,  9502.97124895,\n",
    "        9541.68753013,  9580.56154623,  9619.59393989,  9658.78535635,\n",
    "        9698.13644349,  9737.64785183,  9777.32023454,  9817.15424745,\n",
    "        9857.15054906,  9897.30980055,  9937.6326658 ,  9978.1198114 ,\n",
    "       10018.77190664, 10059.58962354, 10100.57363688, 10141.72462417,\n",
    "       10183.04326566, 10224.53024442, 10266.18624627, 10308.01195982])\n"
   ]
  },
  {
   "cell_type": "code",
   "execution_count": 3,
   "metadata": {},
   "outputs": [],
   "source": [
    "# Create the expenses forecast array\n",
    "\n",
    "expenses_forecast = np.array([2555.25258249, 2560.51598444, 2565.79022813, 2571.0753359 ,\n",
    "       2576.37133013, 2581.67823324, 2586.9960677 , 2592.32485603,\n",
    "       2597.6646208 , 2603.0153846 , 2608.3771701 , 2613.75      ,\n",
    "       2619.13389705, 2624.52888405, 2629.93498383, 2635.3522193 ,\n",
    "       2640.78061339, 2646.22018907, 2651.6709694 , 2657.13297744,\n",
    "       2662.60623632, 2668.09076921, 2673.58659935, 2679.09375   ,\n",
    "       2684.61224448, 2690.14210615, 2695.68335843, 2701.23602478,\n",
    "       2706.80012872, 2712.3756938 , 2717.96274363, 2723.56130187,\n",
    "       2729.17139222, 2734.79303844, 2740.42626434, 2746.07109375,\n",
    "       2751.72755059, 2757.3956588 , 2763.07544239, 2768.7669254 ,\n",
    "       2774.47013194, 2780.18508615, 2785.91181222, 2791.65033442,\n",
    "       2797.40067703, 2803.16286441, 2808.93692094, 2814.72287109,\n",
    "       2820.52073935, 2826.33055027, 2832.15232845, 2837.98609854,\n",
    "       2843.83188524, 2849.6897133 , 2855.55960753, 2861.44159278,\n",
    "       2867.33569396, 2873.24193602, 2879.16034397, 2885.09094287,\n",
    "       2891.03375784, 2896.98881403, 2902.95613666, 2908.935751  ,\n",
    "       2914.92768237, 2920.93195613, 2926.94859772, 2932.9776326 ,\n",
    "       2939.0190863 , 2945.07298442, 2951.13935257, 2957.21821644,\n",
    "       2963.30960178, 2969.41353438, 2975.53004008, 2981.65914478,\n",
    "       2987.80087443, 2993.95525504, 3000.12231266, 3006.30207341,\n",
    "       3012.49456346, 3018.69980903, 3024.91783638, 3031.14867185,\n",
    "       3037.39234183, 3043.64887274, 3049.91829108, 3056.2006234 ,\n",
    "       3062.49589629, 3068.80413641, 3075.12537048, 3081.45962525,\n",
    "       3087.80692755, 3094.16730425, 3100.54078229, 3106.92738865,\n",
    "       3113.32715037, 3119.74009456, 3126.16624836, 3132.60563898,\n",
    "       3139.05829369, 3145.52423982, 3152.00350474, 3158.49611588,\n",
    "       3165.00210074, 3171.52148686, 3178.05430185, 3184.60057337,\n",
    "       3191.16032913, 3197.73359692, 3204.32040457, 3210.92077996,\n",
    "       3217.53475104, 3224.16234582, 3230.80359236, 3237.45851878,\n",
    "       3244.12715326, 3250.80952403, 3257.50565939, 3264.2155877 ,\n",
    "       3270.93933736, 3277.67693684, 3284.42841468, 3291.19379945,\n",
    "       3297.97311981, 3304.76640446, 3311.57368217, 3318.39498175,\n",
    "       3325.23033209, 3332.07976213, 3338.94330088, 3345.82097739,\n",
    "       3352.71282079, 3359.61886027, 3366.53912505, 3373.47364444,\n",
    "       3380.42244781, 3387.38556457, 3394.36302422, 3401.35485629,\n",
    "       3408.36109039, 3415.38175618, 3422.4168834 , 3429.46650183,\n",
    "       3436.53064131, 3443.60933177, 3450.70260317, 3457.81048555,\n",
    "       3464.933009  , 3472.07020369, 3479.22209983, 3486.3887277 ,\n",
    "       3493.57011765, 3500.76630009, 3507.97730549, 3515.20316437,\n",
    "       3522.44390735, 3529.69956507, 3536.97016825, 3544.25574769,\n",
    "       3551.55633423, 3558.87195878, 3566.20265232, 3573.54844589,\n",
    "       3580.90937059, 3588.28545759, 3595.67673812, 3603.08324348,\n",
    "       3610.50500503, 3617.94205419, 3625.39442246, 3632.86214138,\n",
    "       3640.34524258, 3647.84375775, 3655.35771863, 3662.88715704,\n",
    "       3670.43210486, 3677.99259403, 3685.56865658, 3693.16032457])"
   ]
  },
  {
   "cell_type": "code",
   "execution_count": 4,
   "metadata": {},
   "outputs": [
    {
     "name": "stdout",
     "output_type": "stream",
     "text": [
      "Your final net worth: 762317.95\n"
     ]
    },
    {
     "data": {
      "image/png": "[encoded data removed]",
      "text/plain": [
       "<Figure size 432x288 with 1 Axes>"
      ]
     },
     "metadata": {
      "needs_background": "light"
     },
     "output_type": "display_data"
    }
   ],
   "source": [
    "import matplotlib.pyplot as plt\n",
    "\n",
    "# Calculate your savings for each month\n",
    "savings_forecast = salary_forecast - expenses_forecast\n",
    "\n",
    "# Calculate your cumulative savings over time\n",
    "cumulative_savings = np.cumsum (savings_forecast)\n",
    "\n",
    "# Print the final cumulative savings after 15 years\n",
    "# Use the index [-1] to extract the last value of cumulative_savings\n",
    "\n",
    "final_net_worth = cumulative_savings[-1]\n",
    "print(\"Your final net worth: \" + str(round(final_net_worth, 2)))\n",
    "\n",
    "# Plot the forecasted savings\n",
    "plt.plot(cumulative_savings, color='blue')\n",
    "plt.show()"
   ]
  },
  {
   "cell_type": "markdown",
   "metadata": {},
   "source": [
    "Exercise2\n",
    "\n",
    "So You Want to Be a Millionaire?\n",
    "\n",
    "Your projections show that you can accumulate over $700,000 in just 15 years by following a strict budget and growing your salary steadily over time.\n",
    "\n",
    "But you want to be a millionaire in 15 years, retire young, sip margaritas and travel for the rest of your life. In order to do that, you're going to need to invest.\n",
    "\n",
    "Remember the .pmt() function from numpy? You can use this function to calculate how much you need to save each month in order to accumulate your desired wealth over time.\n",
    "\n",
    "You still have a lot to learn about the stock market, but your financial advisor told you that you can earn anywhere from 5-10% per year on your capital on average by investing in a low cost index fund.\n",
    "\n",
    "You know that the stock market doesn't always go up, but you will assume a modest 7% return per year, which has been the average annual return in the US stock market from 1950-2009.\n",
    "\n",
    "The forecast_months variable from the previous exercise is available."
   ]
  },
  {
   "cell_type": "code",
   "execution_count": 5,
   "metadata": {},
   "outputs": [],
   "source": [
    "forecast_months = 180"
   ]
  },
  {
   "cell_type": "code",
   "execution_count": 6,
   "metadata": {},
   "outputs": [
    {
     "name": "stdout",
     "output_type": "stream",
     "text": [
      "You will have to invest $3214.35 per month to amass $1M over 15 years\n"
     ]
    },
    {
     "name": "stderr",
     "output_type": "stream",
     "text": [
      "<ipython-input-6-8e143b72f710>:10: DeprecationWarning: numpy.pmt is deprecated and will be removed from NumPy 1.20. Use numpy_financial.pmt instead (https://pypi.org/project/numpy-financial/).\n",
      "  required_investment_monthly = np.pmt (rate=investment_rate_monthly, nper=forecast_months, pv=0, fv=-1000000)\n"
     ]
    }
   ],
   "source": [
    "import numpy as np\n",
    "\n",
    "# Set the annual investment return to 7%\n",
    "investment_rate_annual = 0.07\n",
    "\n",
    "# Calculate the monthly investment return\n",
    "investment_rate_monthly = ((1+ investment_rate_annual)**(1/12)-1)\n",
    "\n",
    "# Calculate your required monthly investment to amass $1M\n",
    "required_investment_monthly = np.pmt (rate=investment_rate_monthly, nper=forecast_months, pv=0, fv=-1000000)\n",
    "print(\"You will have to invest $\" + str(round(required_investment_monthly, 2)) + \" per month to amass $1M over 15 years\")"
   ]
  },
  {
   "cell_type": "markdown",
   "metadata": {},
   "source": [
    "Exercise3\n",
    "\n",
    "Investing a Percentage of Your Income (I)\n",
    "\n",
    "Unfortunately, you really can't afford to save $3,000 per month in order to amass $1,000,000 after only 15 years.\n",
    "\n",
    "But what you can do is start slowly, investing a small percentage of your take-home income each month, which should grow over time as your income grows as well.\n",
    "\n",
    "In this exercise, you will lay the foundations to simulate this investing process over time.\n",
    "\n",
    "The salary_forecast and expenses_forecast variables are available from the previous exercise.\n",
    "\n",
    "The cash_flow_forecast is also available, and is an array of your forecasted salary minus your forecasted expenses. The monthly_investment_percentage variable is already set to 0.30."
   ]
  },
  {
   "cell_type": "code",
   "execution_count": 7,
   "metadata": {},
   "outputs": [],
   "source": [
    "cash_flow_forecast= np.array([2423.27826769, 2438.29801669, 2453.38956001, 2468.55321198,\n",
    "       2483.78928828, 2499.0981059 , 2514.47998316, 2529.93523974,\n",
    "       2545.46419666, 2561.06717629, 2576.74450237, 2592.4965    ,\n",
    "       2608.32349564, 2624.22581713, 2640.20379371, 2656.25775598,\n",
    "       2672.38803595, 2688.59496702, 2704.87888401, 2721.24012312,\n",
    "       2737.67902201, 2754.19591972, 2770.79115674, 2787.465075  ,\n",
    "       2804.21801785, 2821.05033009, 2837.96235799, 2854.95444926,\n",
    "       2872.02695308, 2889.1802201 , 2906.41460244, 2923.73045372,\n",
    "       2941.12812902, 2958.60798494, 2976.17037957, 2993.8156725 ,\n",
    "       3011.54422485, 3029.35639925, 3047.25255985, 3065.23307234,\n",
    "       3083.29830395, 3101.44862345, 3119.68440115, 3138.00600895,\n",
    "       3156.41382027, 3174.90821015, 3193.48955515, 3212.15823347,\n",
    "       3230.91462486, 3249.75911068, 3268.6920739 , 3287.7138991 ,\n",
    "       3306.82497245, 3326.02568177, 3345.31641652, 3364.69756776,\n",
    "       3384.16952821, 3403.73269226, 3423.38745593, 3443.13421692,\n",
    "       3462.97337459, 3482.90532997, 3502.93048581, 3523.04924651,\n",
    "       3543.2620182 , 3563.5692087 , 3583.97122753, 3604.46848596,\n",
    "       3625.06139697, 3645.75037528, 3666.53583733, 3687.41820134,\n",
    "       3708.39788726, 3729.47531682, 3750.65091352, 3771.92510261,\n",
    "       3793.29831117, 3814.77096803, 3836.34350385, 3858.01635108,\n",
    "       3879.78994398, 3901.66471865, 3923.64111301, 3945.71956682,\n",
    "       3967.90052167, 3990.18442102, 4012.5717102 , 4035.06283636,\n",
    "       4057.65824859, 4080.35839781, 4103.16373686, 4126.07472047,\n",
    "       4149.09180527, 4172.21544981, 4195.44611457, 4218.78426195,\n",
    "       4242.2303563 , 4265.78486389, 4289.44825298, 4313.22099377,\n",
    "       4337.10355843, 4361.09642111, 4385.20005797, 4409.41494712,\n",
    "       4433.74156872, 4458.18040491, 4482.73193986, 4507.39665977,\n",
    "       4532.17505287, 4557.06760945, 4582.07482184, 4607.19718443,\n",
    "       4632.43519369, 4657.78934816, 4683.26014848, 4708.84809737,\n",
    "       4734.55369967, 4760.37746232, 4786.31989439, 4812.38150709,\n",
    "       4838.56281374, 4864.86432985, 4891.28657305, 4917.83006315,\n",
    "       4944.49532215, 4971.28287422, 4998.19324572, 5025.22696521,\n",
    "       5052.38456349, 5079.66657354, 5107.0735306 , 5134.60597214,\n",
    "       5162.26443786, 5190.04946976, 5217.96161207, 5246.0014113 ,\n",
    "       5274.16941625, 5302.46617804, 5330.89225006, 5359.44818802,\n",
    "       5388.13454996, 5416.95189627, 5445.90078965, 5474.98179518,\n",
    "       5504.19548028, 5533.54241476, 5563.02317079, 5592.63832297,\n",
    "       5622.38844826, 5652.27412606, 5682.29593816, 5712.45446882,\n",
    "       5742.75030472, 5773.18403499, 5803.75625122, 5834.46754748,\n",
    "       5865.31852032, 5896.30976879, 5927.44189441, 5958.71550126,\n",
    "       5990.1311959 , 6021.68958745, 6053.39128757, 6085.23691046,\n",
    "       6117.2270729 , 6149.36239424, 6181.64349642, 6214.07100397,\n",
    "       6246.64554402, 6279.36774635, 6312.23824334, 6345.25767001,\n",
    "       6378.42666405, 6411.74586579, 6445.21591825, 6478.83746713,\n",
    "       6512.61116081, 6546.53765039, 6580.61758969, 6614.85163525])"
   ]
  },
  {
   "cell_type": "code",
   "execution_count": 8,
   "metadata": {},
   "outputs": [],
   "source": [
    "monthly_investment_percentage = 0.30"
   ]
  },
  {
   "cell_type": "code",
   "execution_count": 9,
   "metadata": {},
   "outputs": [
    {
     "ename": "NameError",
     "evalue": "name 'investments_plot' is not defined",
     "output_type": "error",
     "traceback": [
      "\u001b[1;31m---------------------------------------------------------------------------\u001b[0m",
      "\u001b[1;31mNameError\u001b[0m                                 Traceback (most recent call last)",
      "\u001b[1;32m<ipython-input-9-19ff9a6126cb>\u001b[0m in \u001b[0;36m<module>\u001b[1;34m\u001b[0m\n\u001b[0;32m     11\u001b[0m \u001b[0mplt\u001b[0m\u001b[1;33m.\u001b[0m\u001b[0mplot\u001b[0m\u001b[1;33m(\u001b[0m\u001b[0minvestment_deposit_forecast\u001b[0m\u001b[1;33m,\u001b[0m \u001b[0mcolor\u001b[0m\u001b[1;33m=\u001b[0m\u001b[1;34m'red'\u001b[0m\u001b[1;33m)\u001b[0m\u001b[1;33m\u001b[0m\u001b[1;33m\u001b[0m\u001b[0m\n\u001b[0;32m     12\u001b[0m \u001b[0mplt\u001b[0m\u001b[1;33m.\u001b[0m\u001b[0mplot\u001b[0m\u001b[1;33m(\u001b[0m\u001b[0msavings_forecast_new\u001b[0m\u001b[1;33m,\u001b[0m \u001b[0mcolor\u001b[0m\u001b[1;33m=\u001b[0m\u001b[1;34m'blue'\u001b[0m\u001b[1;33m)\u001b[0m\u001b[1;33m\u001b[0m\u001b[1;33m\u001b[0m\u001b[0m\n\u001b[1;32m---> 13\u001b[1;33m \u001b[0mplt\u001b[0m\u001b[1;33m.\u001b[0m\u001b[0mlegend\u001b[0m\u001b[1;33m(\u001b[0m\u001b[0mhandles\u001b[0m\u001b[1;33m=\u001b[0m\u001b[1;33m[\u001b[0m\u001b[0minvestments_plot\u001b[0m\u001b[1;33m,\u001b[0m \u001b[0msavings_plot\u001b[0m\u001b[1;33m]\u001b[0m\u001b[1;33m,\u001b[0m \u001b[0mloc\u001b[0m\u001b[1;33m=\u001b[0m\u001b[1;36m2\u001b[0m\u001b[1;33m)\u001b[0m\u001b[1;33m\u001b[0m\u001b[1;33m\u001b[0m\u001b[0m\n\u001b[0m\u001b[0;32m     14\u001b[0m \u001b[0mplt\u001b[0m\u001b[1;33m.\u001b[0m\u001b[0mshow\u001b[0m\u001b[1;33m(\u001b[0m\u001b[1;33m)\u001b[0m\u001b[1;33m\u001b[0m\u001b[1;33m\u001b[0m\u001b[0m\n",
      "\u001b[1;31mNameError\u001b[0m: name 'investments_plot' is not defined"
     ]
    },
    {
     "data": {
      "image/png": "[encoded data removed]",
      "text/plain": [
       "<Figure size 432x288 with 1 Axes>"
      ]
     },
     "metadata": {
      "needs_background": "light"
     },
     "output_type": "display_data"
    }
   ],
   "source": [
    "# Calculate your monthly deposit into your investment account\n",
    "investment_deposit_forecast = cash_flow_forecast * monthly_investment_percentage\n",
    "\n",
    "# The rest goes into your savings account\n",
    "savings_forecast_new = cash_flow_forecast * (1-monthly_investment_percentage)\n",
    "\n",
    "# Calculate your cumulative savings over time\n",
    "cumulative_savings_new = np.cumsum(savings_forecast_new)\n",
    "\n",
    "# Plot your forecasted monthly savings vs investments\n",
    "plt.plot(investment_deposit_forecast, color='red')\n",
    "plt.plot(savings_forecast_new, color='blue')\n",
    "plt.legend(handles=[investments_plot, savings_plot], loc=2)\n",
    "plt.show()"
   ]
  },
  {
   "cell_type": "markdown",
   "metadata": {},
   "source": [
    "Exercise4\n",
    "\n",
    "Investing a Percentage of Your Income (II)\n",
    "\n",
    "To finish up your investment simulation, you will need to loop through each time period, calculate the growth of any investments you have already made, add your new monthly deposit, and calculate your net worth at each point in time.\n",
    "\n",
    "You can do it!\n",
    "\n",
    "Cumulative savings (cumulative_savings_new) from the previous exercise is available, and investment_portfolio and net_worth are pre-allocated empty numpy arrays of length equal to forecast_months."
   ]
  },
  {
   "cell_type": "code",
   "execution_count": 12,
   "metadata": {},
   "outputs": [],
   "source": [
    "# Create empty investment_portfolio array\n",
    "investment_portfolio = np.array([0., 0., 0., 0., 0., 0., 0., 0., 0., 0., 0., 0., 0., 0., 0., 0., 0.,\n",
    "       0., 0., 0., 0., 0., 0., 0., 0., 0., 0., 0., 0., 0., 0., 0., 0., 0.,\n",
    "       0., 0., 0., 0., 0., 0., 0., 0., 0., 0., 0., 0., 0., 0., 0., 0., 0.,\n",
    "       0., 0., 0., 0., 0., 0., 0., 0., 0., 0., 0., 0., 0., 0., 0., 0., 0.,\n",
    "       0., 0., 0., 0., 0., 0., 0., 0., 0., 0., 0., 0., 0., 0., 0., 0., 0.,\n",
    "       0., 0., 0., 0., 0., 0., 0., 0., 0., 0., 0., 0., 0., 0., 0., 0., 0.,\n",
    "       0., 0., 0., 0., 0., 0., 0., 0., 0., 0., 0., 0., 0., 0., 0., 0., 0.,\n",
    "       0., 0., 0., 0., 0., 0., 0., 0., 0., 0., 0., 0., 0., 0., 0., 0., 0.,\n",
    "       0., 0., 0., 0., 0., 0., 0., 0., 0., 0., 0., 0., 0., 0., 0., 0., 0.,\n",
    "       0., 0., 0., 0., 0., 0., 0., 0., 0., 0., 0., 0., 0., 0., 0., 0., 0.,\n",
    "       0., 0., 0., 0., 0., 0., 0., 0., 0., 0.])"
   ]
  },
  {
   "cell_type": "code",
   "execution_count": 13,
   "metadata": {},
   "outputs": [],
   "source": [
    "# Create empty net_worth array\n",
    "net_worth = np.array([0., 0., 0., 0., 0., 0., 0., 0., 0., 0., 0., 0., 0., 0., 0., 0., 0.,\n",
    "       0., 0., 0., 0., 0., 0., 0., 0., 0., 0., 0., 0., 0., 0., 0., 0., 0.,\n",
    "       0., 0., 0., 0., 0., 0., 0., 0., 0., 0., 0., 0., 0., 0., 0., 0., 0.,\n",
    "       0., 0., 0., 0., 0., 0., 0., 0., 0., 0., 0., 0., 0., 0., 0., 0., 0.,\n",
    "       0., 0., 0., 0., 0., 0., 0., 0., 0., 0., 0., 0., 0., 0., 0., 0., 0.,\n",
    "       0., 0., 0., 0., 0., 0., 0., 0., 0., 0., 0., 0., 0., 0., 0., 0., 0.,\n",
    "       0., 0., 0., 0., 0., 0., 0., 0., 0., 0., 0., 0., 0., 0., 0., 0., 0.,\n",
    "       0., 0., 0., 0., 0., 0., 0., 0., 0., 0., 0., 0., 0., 0., 0., 0., 0.,\n",
    "       0., 0., 0., 0., 0., 0., 0., 0., 0., 0., 0., 0., 0., 0., 0., 0., 0.,\n",
    "       0., 0., 0., 0., 0., 0., 0., 0., 0., 0., 0., 0., 0., 0., 0., 0., 0.,\n",
    "       0., 0., 0., 0., 0., 0., 0., 0., 0., 0.])"
   ]
  },
  {
   "cell_type": "code",
   "execution_count": 22,
   "metadata": {},
   "outputs": [],
   "source": [
    "# Loop through each forecast period\n",
    "for i in range(forecast_months):\n",
    "    \n",
    "    # Find the previous investment deposit amount\n",
    "    if i == 0: \n",
    "        previous_investment = 0\n",
    "    else:\n",
    "        previous_investment = investment_portfolio[i-1]\n",
    "        \n",
    "    # Calculate the value of your previous investments, which have grown\n",
    "    previous_investment_growth = previous_investment*(1 + investment_rate_monthly)\n",
    "    \n",
    "    # Add your new deposit to your investment portfolio\n",
    "    investment_portfolio[i] =  previous_investment_growth + investment_deposit_forecast[i]\n",
    "    \n",
    "    # Calculate your net worth at each point in time\n",
    "    net_worth[i] = investment_portfolio[i] + cumulative_savings_new[i]\n",
    "         \n"
   ]
  },
  {
   "cell_type": "code",
   "execution_count": 26,
   "metadata": {},
   "outputs": [
    {
     "data": {
      "image/png": "[encoded data removed]",
      "text/plain": [
       "<Figure size 432x288 with 1 Axes>"
      ]
     },
     "metadata": {
      "needs_background": "light"
     },
     "output_type": "display_data"
    }
   ],
   "source": [
    "# Plot\n",
    "plt.plot(investment_portfolio, color='red')\n",
    "plt.plot(cumulative_savings_new, color='blue')\n",
    "plt.plot(net_worth, color='green')\n",
    "plt.show()"
   ]
  },
  {
   "cell_type": "code",
   "execution_count": null,
   "metadata": {},
   "outputs": [],
   "source": []
  }
 ],
 "metadata": {
  "kernelspec": {
   "display_name": "Python 3",
   "language": "python",
   "name": "python3"
  },
  "language_info": {
   "codemirror_mode": {
    "name": "ipython",
    "version": 3
   },
   "file_extension": ".py",
   "mimetype": "text/x-python",
   "name": "python",
   "nbconvert_exporter": "python",
   "pygments_lexer": "ipython3",
   "version": "3.8.3"
  }
 },
 "nbformat": 4,
 "nbformat_minor": 4
}
