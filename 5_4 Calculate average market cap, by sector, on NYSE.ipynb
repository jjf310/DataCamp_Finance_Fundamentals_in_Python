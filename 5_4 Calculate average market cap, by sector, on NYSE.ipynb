{
 "cells": [
  {
   "cell_type": "code",
   "execution_count": 14,
   "metadata": {},
   "outputs": [],
   "source": [
    "#import libraries\n",
    "import pandas as pd\n",
    "import matplotlib.pyplot as plt"
   ]
  },
  {
   "cell_type": "code",
   "execution_count": 15,
   "metadata": {},
   "outputs": [
    {
     "name": "stdout",
     "output_type": "stream",
     "text": [
      "<class 'pandas.core.frame.DataFrame'>\n",
      "RangeIndex: 3147 entries, 0 to 3146\n",
      "Data columns (total 7 columns):\n",
      " #   Column                 Non-Null Count  Dtype  \n",
      "---  ------                 --------------  -----  \n",
      " 0   Stock Symbol           3147 non-null   object \n",
      " 1   Company Name           3147 non-null   object \n",
      " 2   Last Sale              3079 non-null   float64\n",
      " 3   Market Capitalization  3147 non-null   float64\n",
      " 4   IPO Year               1361 non-null   float64\n",
      " 5   Sector                 2177 non-null   object \n",
      " 6   Industry               2177 non-null   object \n",
      "dtypes: float64(3), object(4)\n",
      "memory usage: 172.2+ KB\n"
     ]
    }
   ],
   "source": [
    "#Retrieve data\n",
    "nyse=pd.read_excel('listings.xlsx', sheet_name='nyse', na_values=['n/a'])\n",
    "\n",
    "#check\n",
    "nyse.info()"
   ]
  },
  {
   "cell_type": "code",
   "execution_count": 16,
   "metadata": {},
   "outputs": [
    {
     "data": {
      "text/plain": [
       "12"
      ]
     },
     "execution_count": 16,
     "metadata": {},
     "output_type": "execute_result"
    }
   ],
   "source": [
    "nyse.Sector.nunique()"
   ]
  },
  {
   "cell_type": "code",
   "execution_count": 17,
   "metadata": {},
   "outputs": [
    {
     "data": {
      "text/plain": [
       "Index(['Stock Symbol', 'Company Name', 'Last Sale', 'Market Capitalization',\n",
       "       'IPO Year', 'Sector', 'Industry'],\n",
       "      dtype='object')"
      ]
     },
     "execution_count": 17,
     "metadata": {},
     "output_type": "execute_result"
    }
   ],
   "source": [
    "nyse.columns"
   ]
  },
  {
   "cell_type": "code",
   "execution_count": 18,
   "metadata": {},
   "outputs": [
    {
     "data": {
      "text/plain": [
       "Consumer Services        448\n",
       "Finance                  351\n",
       "Energy                   226\n",
       "Public Utilities         208\n",
       "Basic Industries         205\n",
       "Capital Goods            183\n",
       "Technology               160\n",
       "Consumer Non-Durables    115\n",
       "Health Care              107\n",
       "Transportation            65\n",
       "Consumer Durables         58\n",
       "Miscellaneous             51\n",
       "Name: Sector, dtype: int64"
      ]
     },
     "execution_count": 18,
     "metadata": {},
     "output_type": "execute_result"
    }
   ],
   "source": [
    "#Another way to present the observations in the Sector column to find the mode\n",
    "nyse['Sector'].value_counts()"
   ]
  },
  {
   "cell_type": "code",
   "execution_count": 19,
   "metadata": {},
   "outputs": [
    {
     "data": {
      "text/plain": [
       "Stock Symbol             3147\n",
       "Company Name             2533\n",
       "Last Sale                2368\n",
       "Market Capitalization    2478\n",
       "IPO Year                   33\n",
       "Sector                     12\n",
       "Industry                  131\n",
       "dtype: int64"
      ]
     },
     "execution_count": 19,
     "metadata": {},
     "output_type": "execute_result"
    }
   ],
   "source": [
    "# Apply the call function on each column\n",
    "# Use lambda the \"anonymous function\", which recieves each column as argument x\n",
    "nyse.apply(lambda x: x.nunique())"
   ]
  },
  {
   "cell_type": "markdown",
   "metadata": {},
   "source": [
    "Steps to calculate market cap for each sector\n",
    "\n",
    "1-Divide the market cap to convert to millions\n",
    "\n",
    "2-Drop the original column\n",
    "\n",
    "3-Group data by sectro\n",
    "\n",
    "4-Calculate market cap for each sector\n"
   ]
  },
  {
   "cell_type": "code",
   "execution_count": 20,
   "metadata": {},
   "outputs": [],
   "source": [
    "# Divde the market cap into million dollar units, make new column, drop old\n",
    "# with axis=1 to remind pandas its a column, not row\n",
    "nyse['market_cap_m'] = nyse['Market Capitalization'].div(1e6)\n",
    "nyse= nyse.drop('Market Capitalization', axis=1)"
   ]
  },
  {
   "cell_type": "code",
   "execution_count": 21,
   "metadata": {},
   "outputs": [],
   "source": [
    "# Create grouby object\n",
    "nyse_by_sector = nyse.groupby('Sector')\n"
   ]
  },
  {
   "cell_type": "code",
   "execution_count": 22,
   "metadata": {},
   "outputs": [
    {
     "name": "stdout",
     "output_type": "stream",
     "text": [
      "Basic Industries 9590.514730016439\n",
      "Capital Goods 10166.901283563553\n",
      "Consumer Durables 5854.1216802827585\n",
      "Consumer Non-Durables 17798.582071918783\n",
      "Consumer Services 6766.35833582702\n",
      "Energy 12915.331006286578\n",
      "Finance 13880.683382706504\n",
      "Health Care 28562.816767372056\n",
      "Miscellaneous 18594.16551888784\n",
      "Public Utilities 13412.55540738509\n",
      "Technology 9790.156572226737\n",
      "Transportation 8491.577404262538\n"
     ]
    }
   ],
   "source": [
    "# Iterate over the object in loop\n",
    "for sector, data in nyse_by_sector:\n",
    "    print (sector, data.market_cap_m.mean())"
   ]
  },
  {
   "cell_type": "code",
   "execution_count": 23,
   "metadata": {},
   "outputs": [
    {
     "data": {
      "text/plain": [
       "Sector\n",
       "Basic Industries          9590.514730\n",
       "Capital Goods            10166.901284\n",
       "Consumer Durables         5854.121680\n",
       "Consumer Non-Durables    17798.582072\n",
       "Consumer Services         6766.358336\n",
       "Energy                   12915.331006\n",
       "Finance                  13880.683383\n",
       "Health Care              28562.816767\n",
       "Miscellaneous            18594.165519\n",
       "Public Utilities         13412.555407\n",
       "Technology                9790.156572\n",
       "Transportation            8491.577404\n",
       "Name: market_cap_m, dtype: float64"
      ]
     },
     "execution_count": 23,
     "metadata": {},
     "output_type": "execute_result"
    }
   ],
   "source": [
    "# Keep it simple and skip the loop\n",
    "mcap_by_sector = nyse_by_sector.market_cap_m.mean()\n",
    "mcap_by_sector"
   ]
  },
  {
   "cell_type": "code",
   "execution_count": 24,
   "metadata": {},
   "outputs": [
    {
     "data": {
      "image/png": "[encoded data removed]",
      "text/plain": [
       "<Figure size 432x288 with 1 Axes>"
      ]
     },
     "metadata": {
      "needs_background": "light"
     },
     "output_type": "display_data"
    }
   ],
   "source": [
    "#Visualize the summary\n",
    "title= 'NYSE = Avg. Market Cap by Sector'\n",
    "mcap_by_sector.plot(kind='barh', title=title)\n",
    "plt.xlabel('USD mn')\n",
    "plt.show()"
   ]
  },
  {
   "cell_type": "code",
   "execution_count": 26,
   "metadata": {},
   "outputs": [
    {
     "data": {
      "image/png": "[encoded data removed]",
      "text/plain": [
       "<Figure size 432x288 with 1 Axes>"
      ]
     },
     "metadata": {
      "needs_background": "light"
     },
     "output_type": "display_data"
    }
   ],
   "source": [
    "# Calculate median\n",
    "median_mcap_by_sector = nyse_by_sector.market_cap_m.median()\n",
    "\n",
    "# Plot and show as horizontal bar chart\n",
    "median_mcap_by_sector.plot(kind='barh', title='NYSE - Median Market Capitalization')\n",
    "\n",
    "# Add the label\n",
    "plt.xlabel('USD mn')\n",
    "\n",
    "# Show the plot\n",
    "plt.show()"
   ]
  },
  {
   "cell_type": "code",
   "execution_count": 27,
   "metadata": {},
   "outputs": [
    {
     "data": {
      "text/html": [
       "<div>\n",
       "<style scoped>\n",
       "    .dataframe tbody tr th:only-of-type {\n",
       "        vertical-align: middle;\n",
       "    }\n",
       "\n",
       "    .dataframe tbody tr th {\n",
       "        vertical-align: top;\n",
       "    }\n",
       "\n",
       "    .dataframe thead th {\n",
       "        text-align: right;\n",
       "    }\n",
       "</style>\n",
       "<table border=\"1\" class=\"dataframe\">\n",
       "  <thead>\n",
       "    <tr style=\"text-align: right;\">\n",
       "      <th></th>\n",
       "      <th>Last Sale</th>\n",
       "      <th>IPO Year</th>\n",
       "      <th>market_cap_m</th>\n",
       "    </tr>\n",
       "    <tr>\n",
       "      <th>Sector</th>\n",
       "      <th></th>\n",
       "      <th></th>\n",
       "      <th></th>\n",
       "    </tr>\n",
       "  </thead>\n",
       "  <tbody>\n",
       "    <tr>\n",
       "      <th>Basic Industries</th>\n",
       "      <td>39.970990</td>\n",
       "      <td>2008.393939</td>\n",
       "      <td>9590.514730</td>\n",
       "    </tr>\n",
       "    <tr>\n",
       "      <th>Capital Goods</th>\n",
       "      <td>68.115082</td>\n",
       "      <td>2006.754098</td>\n",
       "      <td>10166.901284</td>\n",
       "    </tr>\n",
       "    <tr>\n",
       "      <th>Consumer Durables</th>\n",
       "      <td>56.791724</td>\n",
       "      <td>2006.052632</td>\n",
       "      <td>5854.121680</td>\n",
       "    </tr>\n",
       "    <tr>\n",
       "      <th>Consumer Non-Durables</th>\n",
       "      <td>49.625351</td>\n",
       "      <td>2007.574468</td>\n",
       "      <td>17798.582072</td>\n",
       "    </tr>\n",
       "    <tr>\n",
       "      <th>Consumer Services</th>\n",
       "      <td>41.385346</td>\n",
       "      <td>2008.337500</td>\n",
       "      <td>6766.358336</td>\n",
       "    </tr>\n",
       "    <tr>\n",
       "      <th>Energy</th>\n",
       "      <td>29.145299</td>\n",
       "      <td>2008.699115</td>\n",
       "      <td>12915.331006</td>\n",
       "    </tr>\n",
       "    <tr>\n",
       "      <th>Finance</th>\n",
       "      <td>46.251623</td>\n",
       "      <td>2009.250000</td>\n",
       "      <td>13880.683383</td>\n",
       "    </tr>\n",
       "    <tr>\n",
       "      <th>Health Care</th>\n",
       "      <td>65.695140</td>\n",
       "      <td>2008.883721</td>\n",
       "      <td>28562.816767</td>\n",
       "    </tr>\n",
       "    <tr>\n",
       "      <th>Miscellaneous</th>\n",
       "      <td>52.180196</td>\n",
       "      <td>2009.360000</td>\n",
       "      <td>18594.165519</td>\n",
       "    </tr>\n",
       "    <tr>\n",
       "      <th>Public Utilities</th>\n",
       "      <td>37.618231</td>\n",
       "      <td>2010.697368</td>\n",
       "      <td>13412.555407</td>\n",
       "    </tr>\n",
       "    <tr>\n",
       "      <th>Technology</th>\n",
       "      <td>38.301813</td>\n",
       "      <td>2009.833333</td>\n",
       "      <td>9790.156572</td>\n",
       "    </tr>\n",
       "    <tr>\n",
       "      <th>Transportation</th>\n",
       "      <td>35.243326</td>\n",
       "      <td>2010.162162</td>\n",
       "      <td>8491.577404</td>\n",
       "    </tr>\n",
       "  </tbody>\n",
       "</table>\n",
       "</div>"
      ],
      "text/plain": [
       "                       Last Sale     IPO Year  market_cap_m\n",
       "Sector                                                     \n",
       "Basic Industries       39.970990  2008.393939   9590.514730\n",
       "Capital Goods          68.115082  2006.754098  10166.901284\n",
       "Consumer Durables      56.791724  2006.052632   5854.121680\n",
       "Consumer Non-Durables  49.625351  2007.574468  17798.582072\n",
       "Consumer Services      41.385346  2008.337500   6766.358336\n",
       "Energy                 29.145299  2008.699115  12915.331006\n",
       "Finance                46.251623  2009.250000  13880.683383\n",
       "Health Care            65.695140  2008.883721  28562.816767\n",
       "Miscellaneous          52.180196  2009.360000  18594.165519\n",
       "Public Utilities       37.618231  2010.697368  13412.555407\n",
       "Technology             38.301813  2009.833333   9790.156572\n",
       "Transportation         35.243326  2010.162162   8491.577404"
      ]
     },
     "execution_count": 27,
     "metadata": {},
     "output_type": "execute_result"
    }
   ],
   "source": [
    "# Aggregate summary for all numeric columns\n",
    "nyse_by_sector.mean()"
   ]
  },
  {
   "cell_type": "markdown",
   "metadata": {},
   "source": [
    "Analyze how market capitalization has evolved for different IPO years"
   ]
  },
  {
   "cell_type": "code",
   "execution_count": 28,
   "metadata": {},
   "outputs": [
    {
     "name": "stderr",
     "output_type": "stream",
     "text": [
      "<ipython-input-28-45d1d8eaf4c2>:5: SettingWithCopyWarning: \n",
      "A value is trying to be set on a copy of a slice from a DataFrame.\n",
      "Try using .loc[row_indexer,col_indexer] = value instead\n",
      "\n",
      "See the caveats in the documentation: https://pandas.pydata.org/pandas-docs/stable/user_guide/indexing.html#returning-a-view-versus-a-copy\n",
      "  nyse['IPO Year'] = nyse['IPO Year'].dropna().astype(int)\n"
     ]
    },
    {
     "data": {
      "image/png": "[encoded data removed]",
      "text/plain": [
       "<Figure size 432x288 with 1 Axes>"
      ]
     },
     "metadata": {
      "needs_background": "light"
     },
     "output_type": "display_data"
    }
   ],
   "source": [
    "# Select companies with IPO after 1985\n",
    "nyse = nyse[nyse['IPO Year'] > 1985]\n",
    "\n",
    "# Drop missing values and convert to integers\n",
    "nyse['IPO Year'] = nyse['IPO Year'].dropna().astype(int)\n",
    "\n",
    "# Calculate the median market cap by IPO Year and sort the index\n",
    "ipo_by_year = nyse.groupby('IPO Year').market_cap_m.median().sort_index()\n",
    "\n",
    "# Plot results as a bar chart\n",
    "ipo_by_year.plot(kind='bar')\n",
    "\n",
    "# Show the plot\n",
    "plt.show()"
   ]
  },
  {
   "cell_type": "markdown",
   "metadata": {},
   "source": [
    "After 1985, the year 1994 had the highest median market capitalization."
   ]
  },
  {
   "cell_type": "code",
   "execution_count": null,
   "metadata": {},
   "outputs": [],
   "source": []
  }
 ],
 "metadata": {
  "kernelspec": {
   "display_name": "Python 3",
   "language": "python",
   "name": "python3"
  },
  "language_info": {
   "codemirror_mode": {
    "name": "ipython",
    "version": 3
   },
   "file_extension": ".py",
   "mimetype": "text/x-python",
   "name": "python",
   "nbconvert_exporter": "python",
   "pygments_lexer": "ipython3",
   "version": "3.8.3"
  }
 },
 "nbformat": 4,
 "nbformat_minor": 4
}
