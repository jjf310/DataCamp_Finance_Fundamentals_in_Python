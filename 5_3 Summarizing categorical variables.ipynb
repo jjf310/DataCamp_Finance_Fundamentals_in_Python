{
 "cells": [
  {
   "cell_type": "code",
   "execution_count": 20,
   "metadata": {},
   "outputs": [],
   "source": [
    "#import libraries\n",
    "import pandas as pd\n",
    "import matplotlib.pyplot as plt"
   ]
  },
  {
   "cell_type": "code",
   "execution_count": 21,
   "metadata": {},
   "outputs": [
    {
     "name": "stdout",
     "output_type": "stream",
     "text": [
      "<class 'pandas.core.frame.DataFrame'>\n",
      "RangeIndex: 360 entries, 0 to 359\n",
      "Data columns (total 7 columns):\n",
      " #   Column                 Non-Null Count  Dtype  \n",
      "---  ------                 --------------  -----  \n",
      " 0   Stock Symbol           360 non-null    object \n",
      " 1   Company Name           360 non-null    object \n",
      " 2   Last Sale              346 non-null    float64\n",
      " 3   Market Capitalization  360 non-null    float64\n",
      " 4   IPO Year               105 non-null    float64\n",
      " 5   Sector                 238 non-null    object \n",
      " 6   Industry               238 non-null    object \n",
      "dtypes: float64(3), object(4)\n",
      "memory usage: 19.8+ KB\n"
     ]
    }
   ],
   "source": [
    "#Retrieve data\n",
    "amex=pd.read_excel('listings.xlsx', sheet_name='amex', na_values=['n/a'])\n",
    "\n",
    "#check\n",
    "amex.info()"
   ]
  },
  {
   "cell_type": "code",
   "execution_count": 25,
   "metadata": {},
   "outputs": [
    {
     "data": {
      "text/plain": [
       "12"
      ]
     },
     "execution_count": 25,
     "metadata": {},
     "output_type": "execute_result"
    }
   ],
   "source": [
    "amex.Sector.nunique()"
   ]
  },
  {
   "cell_type": "code",
   "execution_count": 22,
   "metadata": {},
   "outputs": [
    {
     "data": {
      "text/plain": [
       "Index(['Stock Symbol', 'Company Name', 'Last Sale', 'Market Capitalization',\n",
       "       'IPO Year', 'Sector', 'Industry'],\n",
       "      dtype='object')"
      ]
     },
     "execution_count": 22,
     "metadata": {},
     "output_type": "execute_result"
    }
   ],
   "source": [
    "amex.columns"
   ]
  },
  {
   "cell_type": "code",
   "execution_count": 33,
   "metadata": {},
   "outputs": [
    {
     "data": {
      "text/plain": [
       "Sector\n",
       "Basic Industries         44\n",
       "Capital Goods            24\n",
       "Consumer Durables         4\n",
       "Consumer Non-Durables    13\n",
       "Consumer Services        27\n",
       "Energy                   28\n",
       "Finance                  12\n",
       "Health Care              49\n",
       "Miscellaneous             5\n",
       "Public Utilities         11\n",
       "Technology               20\n",
       "Transportation            1\n",
       "Name: Sector, dtype: int64"
      ]
     },
     "execution_count": 33,
     "metadata": {},
     "output_type": "execute_result"
    }
   ],
   "source": [
    "#Groupby Sector to see find the mode\n",
    "amex.groupby('Sector').Sector.count()"
   ]
  },
  {
   "cell_type": "code",
   "execution_count": 34,
   "metadata": {},
   "outputs": [
    {
     "data": {
      "text/plain": [
       "Health Care              49\n",
       "Basic Industries         44\n",
       "Energy                   28\n",
       "Consumer Services        27\n",
       "Capital Goods            24\n",
       "Technology               20\n",
       "Consumer Non-Durables    13\n",
       "Finance                  12\n",
       "Public Utilities         11\n",
       "Miscellaneous             5\n",
       "Consumer Durables         4\n",
       "Transportation            1\n",
       "Name: Sector, dtype: int64"
      ]
     },
     "execution_count": 34,
     "metadata": {},
     "output_type": "execute_result"
    }
   ],
   "source": [
    "#Another way to present the observations in the Sector column to find the mode\n",
    "amex['Sector'].value_counts()"
   ]
  },
  {
   "cell_type": "code",
   "execution_count": 31,
   "metadata": {},
   "outputs": [
    {
     "data": {
      "text/plain": [
       "Stock Symbol             360\n",
       "Company Name             326\n",
       "Last Sale                323\n",
       "Market Capitalization    317\n",
       "IPO Year                  24\n",
       "Sector                    12\n",
       "Industry                  68\n",
       "dtype: int64"
      ]
     },
     "execution_count": 31,
     "metadata": {},
     "output_type": "execute_result"
    }
   ],
   "source": [
    "# Apply the call function on each column\n",
    "# Use lambda the \"anonymous function\", which recieves each column as argument x\n",
    "amex.apply(lambda x: x.nunique())"
   ]
  },
  {
   "cell_type": "code",
   "execution_count": 35,
   "metadata": {},
   "outputs": [
    {
     "data": {
      "text/plain": [
       "2002.0    19\n",
       "2015.0    11\n",
       "1999.0     9\n",
       "1993.0     7\n",
       "2014.0     6\n",
       "2004.0     5\n",
       "2013.0     5\n",
       "2017.0     5\n",
       "2003.0     5\n",
       "1992.0     4\n",
       "2005.0     3\n",
       "2006.0     3\n",
       "2016.0     3\n",
       "1986.0     3\n",
       "2011.0     3\n",
       "2007.0     3\n",
       "1997.0     2\n",
       "1988.0     2\n",
       "1998.0     2\n",
       "2009.0     1\n",
       "1991.0     1\n",
       "1996.0     1\n",
       "1990.0     1\n",
       "1987.0     1\n",
       "Name: IPO Year, dtype: int64"
      ]
     },
     "execution_count": 35,
     "metadata": {},
     "output_type": "execute_result"
    }
   ],
   "source": [
    "# How many IPOs per year?\n",
    "amex['IPO Year'].value_counts()"
   ]
  },
  {
   "cell_type": "code",
   "execution_count": 37,
   "metadata": {},
   "outputs": [
    {
     "data": {
      "text/plain": [
       "2002    19\n",
       "2015    11\n",
       "1999     9\n",
       "1993     7\n",
       "2014     6\n",
       "2004     5\n",
       "2003     5\n",
       "2017     5\n",
       "2013     5\n",
       "1992     4\n",
       "2006     3\n",
       "2005     3\n",
       "2007     3\n",
       "2016     3\n",
       "2011     3\n",
       "1986     3\n",
       "1998     2\n",
       "1997     2\n",
       "1988     2\n",
       "2009     1\n",
       "1996     1\n",
       "1991     1\n",
       "1990     1\n",
       "1987     1\n",
       "Name: IPO Year, dtype: int64"
      ]
     },
     "execution_count": 37,
     "metadata": {},
     "output_type": "execute_result"
    }
   ],
   "source": [
    "#the years are displayed as floats in info() because there are missing values. \n",
    "#remove the missing values\n",
    "\n",
    "ipo_by_yr = amex['IPO Year'].dropna().astype(int).value_counts()\n",
    "ipo_by_yr"
   ]
  },
  {
   "cell_type": "code",
   "execution_count": 39,
   "metadata": {},
   "outputs": [
    {
     "data": {
      "image/png": "[encoded data removed]",
      "text/plain": [
       "<Figure size 432x288 with 1 Axes>"
      ]
     },
     "metadata": {
      "needs_background": "light"
     },
     "output_type": "display_data"
    }
   ],
   "source": [
    "#Visualize as a bar chart\n",
    "ipo_by_yr.plot(kind='bar',title='IPOs per Year')\n",
    "plt.xticks(rotation=45)\n",
    "plt.show()"
   ]
  },
  {
   "cell_type": "code",
   "execution_count": null,
   "metadata": {},
   "outputs": [],
   "source": []
  }
 ],
 "metadata": {
  "kernelspec": {
   "display_name": "Python 3",
   "language": "python",
   "name": "python3"
  },
  "language_info": {
   "codemirror_mode": {
    "name": "ipython",
    "version": 3
   },
   "file_extension": ".py",
   "mimetype": "text/x-python",
   "name": "python",
   "nbconvert_exporter": "python",
   "pygments_lexer": "ipython3",
   "version": "3.8.3"
  }
 },
 "nbformat": 4,
 "nbformat_minor": 4
}
